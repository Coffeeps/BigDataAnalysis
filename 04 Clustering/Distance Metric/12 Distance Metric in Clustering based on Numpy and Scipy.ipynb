{
 "cells": [
  {
   "cell_type": "markdown",
   "id": "5d18765d",
   "metadata": {},
   "source": [
    "# Code Info\n",
    "\n",
    "- Contributor：datamonday\n",
    "- Github Repo：https://github.com/datamonday/BigDataAnalysis"
   ]
  },
  {
   "cell_type": "code",
   "execution_count": 1,
   "id": "ac770c5c",
   "metadata": {},
   "outputs": [],
   "source": [
    "import numpy as np\n",
    "from scipy.spatial.distance import pdist"
   ]
  },
  {
   "cell_type": "markdown",
   "id": "d385f731",
   "metadata": {},
   "source": [
    "`numpy.ones(shape, dtype=None, order='C', *, like=None)`\n",
    "\n",
    "返回给定形状和类型的新数组，并用1填充。"
   ]
  },
  {
   "cell_type": "code",
   "execution_count": 34,
   "id": "8f9fbb83",
   "metadata": {},
   "outputs": [
    {
     "data": {
      "text/plain": [
       "array([[1., 1.],\n",
       "       [1., 1.],\n",
       "       [1., 1.],\n",
       "       [1., 1.],\n",
       "       [1., 1.]])"
      ]
     },
     "execution_count": 34,
     "metadata": {},
     "output_type": "execute_result"
    }
   ],
   "source": [
    "x_ones1 = np.ones([5,2])\n",
    "x_ones1"
   ]
  },
  {
   "cell_type": "code",
   "execution_count": 25,
   "id": "1f635082",
   "metadata": {},
   "outputs": [
    {
     "data": {
      "text/plain": [
       "array([[1., 1.],\n",
       "       [1., 1.],\n",
       "       [1., 1.],\n",
       "       [1., 1.],\n",
       "       [1., 1.]])"
      ]
     },
     "execution_count": 25,
     "metadata": {},
     "output_type": "execute_result"
    }
   ],
   "source": [
    "y_ones2 = np.ones([5,2])\n",
    "y_ones2"
   ]
  },
  {
   "cell_type": "markdown",
   "id": "5d729044",
   "metadata": {},
   "source": [
    "`numpy.eye(N, M=None, k=0, dtype=<class 'float'>, order='C', *, like=None)`\n",
    "\n",
    "返回一个二维数组。\n",
    "\n",
    "- N: 行数\n",
    "- M: 列数\n",
    "- k: 对角线索引"
   ]
  },
  {
   "cell_type": "code",
   "execution_count": 36,
   "id": "c9ffa105",
   "metadata": {},
   "outputs": [
    {
     "data": {
      "text/plain": [
       "array([[1., 0., 0., 0., 0.],\n",
       "       [0., 1., 0., 0., 0.],\n",
       "       [0., 0., 1., 0., 0.],\n",
       "       [0., 0., 0., 1., 0.],\n",
       "       [0., 0., 0., 0., 1.]])"
      ]
     },
     "execution_count": 36,
     "metadata": {},
     "output_type": "execute_result"
    }
   ],
   "source": [
    "x_eye = np.eye(5,5,0)\n",
    "x_eye"
   ]
  },
  {
   "cell_type": "code",
   "execution_count": 85,
   "id": "a5486c79",
   "metadata": {},
   "outputs": [
    {
     "data": {
      "text/plain": [
       "array([0.90275773, 0.10568311, 0.90440239])"
      ]
     },
     "execution_count": 85,
     "metadata": {},
     "output_type": "execute_result"
    }
   ],
   "source": [
    "x1 = np.random.random(3)\n",
    "x1"
   ]
  },
  {
   "cell_type": "code",
   "execution_count": 86,
   "id": "a444fac8",
   "metadata": {},
   "outputs": [
    {
     "data": {
      "text/plain": [
       "array([0.80022806, 0.92789639, 0.6041757 ])"
      ]
     },
     "execution_count": 86,
     "metadata": {},
     "output_type": "execute_result"
    }
   ],
   "source": [
    "y1 = np.random.random(3)\n",
    "y1"
   ]
  },
  {
   "cell_type": "markdown",
   "id": "f57f61c5",
   "metadata": {},
   "source": [
    "`numpy.std(a, axis=None, dtype=None, out=None, ddof=0, keepdims=<no value>, *, where=<no value>)`\n",
    "\n",
    "计算沿指定轴的标准差。"
   ]
  },
  {
   "cell_type": "markdown",
   "id": "2b286627",
   "metadata": {},
   "source": [
    "`numpy.sum(a, axis=None, dtype=None, out=None, keepdims=<no value>, initial=<no value>, where=<no value>)`\n",
    "\n",
    "给定轴上的数组元素的总和。"
   ]
  },
  {
   "cell_type": "code",
   "execution_count": 87,
   "id": "04999118",
   "metadata": {},
   "outputs": [
    {
     "data": {
      "text/plain": [
       "array([[0.7382364 , 0.82985292],\n",
       "       [0.37193289, 0.63203355],\n",
       "       [0.39068034, 0.70997788]])"
      ]
     },
     "execution_count": 87,
     "metadata": {},
     "output_type": "execute_result"
    }
   ],
   "source": [
    "x2 = np.random.random([3, 2])\n",
    "x2"
   ]
  },
  {
   "cell_type": "code",
   "execution_count": 88,
   "id": "5cade6f8",
   "metadata": {},
   "outputs": [
    {
     "data": {
      "text/plain": [
       "array([[0.72555411, 0.59649138],\n",
       "       [0.33190826, 0.22485379],\n",
       "       [0.25404031, 0.50062771]])"
      ]
     },
     "execution_count": 88,
     "metadata": {},
     "output_type": "execute_result"
    }
   ],
   "source": [
    "y2 = np.random.random([3, 2])\n",
    "y2"
   ]
  },
  {
   "cell_type": "code",
   "execution_count": 89,
   "id": "70a01d63",
   "metadata": {},
   "outputs": [
    {
     "data": {
      "text/plain": [
       "array([[0.01268229, 0.23336154],\n",
       "       [0.04002463, 0.40717976],\n",
       "       [0.13664003, 0.20935017]])"
      ]
     },
     "execution_count": 89,
     "metadata": {},
     "output_type": "execute_result"
    }
   ],
   "source": [
    "x2 - y2"
   ]
  },
  {
   "cell_type": "code",
   "execution_count": 90,
   "id": "0b730c0e",
   "metadata": {},
   "outputs": [
    {
     "data": {
      "text/plain": [
       "array([[1.60840441e-04, 5.44576072e-02],\n",
       "       [1.60197094e-03, 1.65795354e-01],\n",
       "       [1.86704989e-02, 4.38274923e-02]])"
      ]
     },
     "execution_count": 90,
     "metadata": {},
     "output_type": "execute_result"
    }
   ],
   "source": [
    "np.square(x2 - y2)"
   ]
  },
  {
   "cell_type": "code",
   "execution_count": 91,
   "id": "1e6490bd",
   "metadata": {},
   "outputs": [
    {
     "data": {
      "text/plain": [
       "array([0.02043331, 0.26408045])"
      ]
     },
     "execution_count": 91,
     "metadata": {},
     "output_type": "execute_result"
    }
   ],
   "source": [
    "np.sum(np.square(x2 - y2), axis=0)"
   ]
  },
  {
   "cell_type": "code",
   "execution_count": 92,
   "id": "55210360",
   "metadata": {},
   "outputs": [
    {
     "data": {
      "text/plain": [
       "array([0, 6])"
      ]
     },
     "execution_count": 92,
     "metadata": {},
     "output_type": "execute_result"
    }
   ],
   "source": [
    "np.sum([[0, 1], [0, 5]], axis=0)"
   ]
  },
  {
   "cell_type": "code",
   "execution_count": 93,
   "id": "f3e9d2cc",
   "metadata": {},
   "outputs": [
    {
     "data": {
      "text/plain": [
       "array([1, 5])"
      ]
     },
     "execution_count": 93,
     "metadata": {},
     "output_type": "execute_result"
    }
   ],
   "source": [
    "np.sum([[0, 1], [0, 5]], axis=1)"
   ]
  },
  {
   "cell_type": "code",
   "execution_count": 94,
   "id": "3a2db5e7",
   "metadata": {},
   "outputs": [
    {
     "data": {
      "text/plain": [
       "array([0.16843229, 0.08136191])"
      ]
     },
     "execution_count": 94,
     "metadata": {},
     "output_type": "execute_result"
    }
   ],
   "source": [
    "np.std(x2, axis=0)"
   ]
  },
  {
   "cell_type": "code",
   "execution_count": 95,
   "id": "4a3e57d5",
   "metadata": {},
   "outputs": [
    {
     "data": {
      "text/plain": [
       "array([0.01051233, 0.67603468, 0.09013606])"
      ]
     },
     "execution_count": 95,
     "metadata": {},
     "output_type": "execute_result"
    }
   ],
   "source": [
    "np.square(x1 - y1)"
   ]
  },
  {
   "cell_type": "code",
   "execution_count": 96,
   "id": "40e0062d",
   "metadata": {},
   "outputs": [
    {
     "data": {
      "text/plain": [
       "0.7766830821234479"
      ]
     },
     "execution_count": 96,
     "metadata": {},
     "output_type": "execute_result"
    }
   ],
   "source": [
    "np.sum(np.square(x1 - y1))"
   ]
  },
  {
   "cell_type": "code",
   "execution_count": 97,
   "id": "01de792c",
   "metadata": {},
   "outputs": [
    {
     "data": {
      "text/plain": [
       "0.881296251054915"
      ]
     },
     "execution_count": 97,
     "metadata": {},
     "output_type": "execute_result"
    }
   ],
   "source": [
    "np.sqrt(np.sum(np.square(x1 - y1)))"
   ]
  },
  {
   "cell_type": "code",
   "execution_count": 98,
   "id": "b80e4207",
   "metadata": {},
   "outputs": [
    {
     "data": {
      "text/plain": [
       "array([[0.7382364 , 0.82985292],\n",
       "       [0.37193289, 0.63203355],\n",
       "       [0.39068034, 0.70997788],\n",
       "       [0.72555411, 0.59649138],\n",
       "       [0.33190826, 0.22485379],\n",
       "       [0.25404031, 0.50062771]])"
      ]
     },
     "execution_count": 98,
     "metadata": {},
     "output_type": "execute_result"
    }
   ],
   "source": [
    "np.vstack([x2, y2])"
   ]
  },
  {
   "cell_type": "code",
   "execution_count": 99,
   "id": "90b6b2cc",
   "metadata": {},
   "outputs": [
    {
     "data": {
      "text/plain": [
       "array([[0.7382364 , 0.82985292, 0.72555411, 0.59649138],\n",
       "       [0.37193289, 0.63203355, 0.33190826, 0.22485379],\n",
       "       [0.39068034, 0.70997788, 0.25404031, 0.50062771]])"
      ]
     },
     "execution_count": 99,
     "metadata": {},
     "output_type": "execute_result"
    }
   ],
   "source": [
    "np.hstack([x2, y2])"
   ]
  },
  {
   "cell_type": "markdown",
   "id": "927f7614",
   "metadata": {},
   "source": [
    "# 1. 闵可夫斯基距离（Minkowski Distance）"
   ]
  },
  {
   "cell_type": "code",
   "execution_count": 110,
   "id": "b857cdc8",
   "metadata": {},
   "outputs": [
    {
     "data": {
      "text/plain": [
       "array([0.75173729, 0.34763686, 0.71927609, 0.24151473, 0.22294162])"
      ]
     },
     "execution_count": 110,
     "metadata": {},
     "output_type": "execute_result"
    }
   ],
   "source": [
    "x = np.random.random(5)\n",
    "x"
   ]
  },
  {
   "cell_type": "code",
   "execution_count": 111,
   "id": "c26b1ee1",
   "metadata": {},
   "outputs": [
    {
     "data": {
      "text/plain": [
       "array([0.98036113, 0.45482745, 0.87472311, 0.92923963, 0.62922737])"
      ]
     },
     "execution_count": 111,
     "metadata": {},
     "output_type": "execute_result"
    }
   ],
   "source": [
    "y = np.random.random(5)\n",
    "y"
   ]
  },
  {
   "cell_type": "code",
   "execution_count": 180,
   "id": "bd30acb1",
   "metadata": {},
   "outputs": [
    {
     "data": {
      "text/plain": [
       "array([0.85203058])"
      ]
     },
     "execution_count": 180,
     "metadata": {},
     "output_type": "execute_result"
    }
   ],
   "source": [
    "# p = 2 ——> 欧氏距离\n",
    "pdist(xy, metric=\"minkowski\", p=2)"
   ]
  },
  {
   "cell_type": "markdown",
   "id": "0247c943",
   "metadata": {},
   "source": [
    "# 2. 欧氏距离（Euclidean Distance）\n",
    "\n",
    "- scipy pdist:https://docs.scipy.org/doc/scipy/reference/generated/scipy.spatial.distance.pdist.html\n",
    "- sklearn:https://scikit-learn.org/stable/modules/classes.html#module-sklearn.metrics.pairwise\n",
    "\n",
    "种类：\n",
    "- 基本欧式距离\n",
    "- 加权欧式距离\n",
    "- 标准化欧氏距离"
   ]
  },
  {
   "cell_type": "code",
   "execution_count": 112,
   "id": "f2c51dcd",
   "metadata": {},
   "outputs": [
    {
     "data": {
      "text/plain": [
       "0.8520305805970781"
      ]
     },
     "execution_count": 112,
     "metadata": {},
     "output_type": "execute_result"
    }
   ],
   "source": [
    "# 根据公式求解\n",
    "np.sqrt(np.sum(np.square(x - y) ) )"
   ]
  },
  {
   "cell_type": "code",
   "execution_count": 113,
   "id": "96421605",
   "metadata": {},
   "outputs": [
    {
     "data": {
      "text/plain": [
       "array([0.85203058])"
      ]
     },
     "execution_count": 113,
     "metadata": {},
     "output_type": "execute_result"
    }
   ],
   "source": [
    "# 根据scipy库求解\n",
    "xy = np.vstack([x, y])\n",
    "pdist(xy, metric=\"euclidean\")"
   ]
  },
  {
   "cell_type": "markdown",
   "id": "2cc55979",
   "metadata": {},
   "source": [
    "# 3. 曼哈顿距离（Manhattan/City Block Distance）"
   ]
  },
  {
   "cell_type": "code",
   "execution_count": 114,
   "id": "29c8ef45",
   "metadata": {},
   "outputs": [
    {
     "data": {
      "text/plain": [
       "1.585272101374208"
      ]
     },
     "execution_count": 114,
     "metadata": {},
     "output_type": "execute_result"
    }
   ],
   "source": [
    "np.sum(np.abs(x - y))"
   ]
  },
  {
   "cell_type": "code",
   "execution_count": 115,
   "id": "d2a0abe3",
   "metadata": {},
   "outputs": [
    {
     "data": {
      "text/plain": [
       "array([1.5852721])"
      ]
     },
     "execution_count": 115,
     "metadata": {},
     "output_type": "execute_result"
    }
   ],
   "source": [
    "pdist(xy, metric=\"cityblock\")"
   ]
  },
  {
   "cell_type": "markdown",
   "id": "2eaf32a4",
   "metadata": {},
   "source": [
    "# 4. 切比雪夫距离（Chebyshev Distance）"
   ]
  },
  {
   "cell_type": "code",
   "execution_count": 117,
   "id": "895aea43",
   "metadata": {},
   "outputs": [
    {
     "data": {
      "text/plain": [
       "0.6877248997688814"
      ]
     },
     "execution_count": 117,
     "metadata": {},
     "output_type": "execute_result"
    }
   ],
   "source": [
    "np.max(np.abs(x - y))"
   ]
  },
  {
   "cell_type": "code",
   "execution_count": 116,
   "id": "cd58d97f",
   "metadata": {},
   "outputs": [
    {
     "data": {
      "text/plain": [
       "array([0.6877249])"
      ]
     },
     "execution_count": 116,
     "metadata": {},
     "output_type": "execute_result"
    }
   ],
   "source": [
    "pdist(xy, metric=\"chebyshev\")"
   ]
  },
  {
   "cell_type": "markdown",
   "id": "66a212e1",
   "metadata": {},
   "source": [
    "# 5. 余弦相似度（Cosine Similarity）"
   ]
  },
  {
   "attachments": {
    "image.png": {
     "image/png": "[encoded data removed]"
    }
   },
   "cell_type": "markdown",
   "id": "5f729ad3",
   "metadata": {},
   "source": [
    "Numpy linear algebra：https://numpy.org/doc/stable/reference/routines.linalg.html\n",
    "\n",
    "linalg.norm:\n",
    "\n",
    "![image.png](attachment:image.png)"
   ]
  },
  {
   "cell_type": "code",
   "execution_count": 118,
   "id": "548f3a8c",
   "metadata": {},
   "outputs": [
    {
     "data": {
      "text/plain": [
       "0.9232011981703329"
      ]
     },
     "execution_count": 118,
     "metadata": {},
     "output_type": "execute_result"
    }
   ],
   "source": [
    "np.dot(x, y) / ( np.linalg.norm(x) * np.linalg.norm(y) )"
   ]
  },
  {
   "cell_type": "code",
   "execution_count": 120,
   "id": "fafb89fa",
   "metadata": {},
   "outputs": [
    {
     "data": {
      "text/plain": [
       "array([0.9232012])"
      ]
     },
     "execution_count": 120,
     "metadata": {},
     "output_type": "execute_result"
    }
   ],
   "source": [
    "1 - pdist(xy, metric=\"cosine\")"
   ]
  },
  {
   "cell_type": "markdown",
   "id": "e42eb148",
   "metadata": {},
   "source": [
    "# 6. 汉明距离（Hamming Distance）"
   ]
  },
  {
   "cell_type": "code",
   "execution_count": 121,
   "id": "cce34e02",
   "metadata": {},
   "outputs": [
    {
     "data": {
      "text/plain": [
       "1.0"
      ]
     },
     "execution_count": 121,
     "metadata": {},
     "output_type": "execute_result"
    }
   ],
   "source": [
    "np.mean( x != y )"
   ]
  },
  {
   "cell_type": "code",
   "execution_count": 122,
   "id": "7cd078a6",
   "metadata": {},
   "outputs": [
    {
     "data": {
      "text/plain": [
       "array([1.])"
      ]
     },
     "execution_count": 122,
     "metadata": {},
     "output_type": "execute_result"
    }
   ],
   "source": [
    "pdist(xy, metric=\"hamming\")"
   ]
  },
  {
   "cell_type": "code",
   "execution_count": 134,
   "id": "3dfe19d2",
   "metadata": {},
   "outputs": [
    {
     "data": {
      "text/plain": [
       "'10010001'"
      ]
     },
     "execution_count": 134,
     "metadata": {},
     "output_type": "execute_result"
    }
   ],
   "source": [
    "# 以字符串格式返回输入数据的二进制编码\n",
    "bin_x = np.binary_repr(145)\n",
    "bin_x"
   ]
  },
  {
   "cell_type": "code",
   "execution_count": 133,
   "id": "77c6acf9",
   "metadata": {},
   "outputs": [
    {
     "data": {
      "text/plain": [
       "'10010110'"
      ]
     },
     "execution_count": 133,
     "metadata": {},
     "output_type": "execute_result"
    }
   ],
   "source": [
    "bin_y = np.binary_repr(150)\n",
    "bin_y"
   ]
  },
  {
   "cell_type": "code",
   "execution_count": 135,
   "id": "93d322f1",
   "metadata": {},
   "outputs": [
    {
     "data": {
      "text/plain": [
       "1.0"
      ]
     },
     "execution_count": 135,
     "metadata": {},
     "output_type": "execute_result"
    }
   ],
   "source": [
    "np.mean(bin_x != bin_y)"
   ]
  },
  {
   "cell_type": "markdown",
   "id": "573a516a",
   "metadata": {},
   "source": [
    "# 7. 杰卡德距离（Jaccard Distance）"
   ]
  },
  {
   "cell_type": "code",
   "execution_count": 125,
   "id": "9cb2bf86",
   "metadata": {},
   "outputs": [
    {
     "data": {
      "text/plain": [
       "1.0"
      ]
     },
     "execution_count": 125,
     "metadata": {},
     "output_type": "execute_result"
    }
   ],
   "source": [
    "molecular = np.double( (x != y).sum() )\n",
    "denominator = np.double(np.bitwise_or( x != 0, y != 0).sum() )\n",
    "\n",
    "molecular / denominator"
   ]
  },
  {
   "cell_type": "code",
   "execution_count": 136,
   "id": "4012aac4",
   "metadata": {},
   "outputs": [
    {
     "data": {
      "text/plain": [
       "array([1.])"
      ]
     },
     "execution_count": 136,
     "metadata": {},
     "output_type": "execute_result"
    }
   ],
   "source": [
    "pdist(xy, metric=\"jaccard\")"
   ]
  },
  {
   "cell_type": "markdown",
   "id": "d7459fd9",
   "metadata": {},
   "source": [
    "# 8.S$\\Phi$rensen-Dice"
   ]
  },
  {
   "cell_type": "code",
   "execution_count": 152,
   "id": "1d913f46",
   "metadata": {},
   "outputs": [
    {
     "data": {
      "text/plain": [
       "array([0.])"
      ]
     },
     "execution_count": 152,
     "metadata": {},
     "output_type": "execute_result"
    }
   ],
   "source": [
    "pdist(xy, metric=\"dice\")"
   ]
  },
  {
   "cell_type": "markdown",
   "id": "8db8a459",
   "metadata": {},
   "source": [
    "# 9. 半正矢距离（Haversine Distance）\n",
    "\n",
    "- https://scikit-learn.org/stable/modules/generated/sklearn.metrics.pairwise.haversine_distances.html"
   ]
  },
  {
   "cell_type": "code",
   "execution_count": 138,
   "id": "cde8128d",
   "metadata": {},
   "outputs": [
    {
     "data": {
      "text/plain": [
       "array([[    0.        , 11099.54035582],\n",
       "       [11099.54035582,     0.        ]])"
      ]
     },
     "execution_count": 138,
     "metadata": {},
     "output_type": "execute_result"
    }
   ],
   "source": [
    "\"\"\"\n",
    "计算Ezeiza机场（阿根廷布宜诺斯艾利斯）和戴高乐机场（法国巴黎）之间的距离。\n",
    "\"\"\"\n",
    "\n",
    "from sklearn.metrics.pairwise import haversine_distances\n",
    "from math import radians\n",
    "\n",
    "bsas = [-34.83333, -58.5166646]\n",
    "paris = [49.0083899664, 2.53844117956]\n",
    "\n",
    "bsas_in_radians = [radians(_) for _ in bsas]\n",
    "paris_in_radians = [radians(_) for _ in paris]\n",
    "\n",
    "result = haversine_distances([bsas_in_radians, paris_in_radians])\n",
    "# multiply by Earth radius to get kilometers\n",
    "result * 6371000/1000"
   ]
  },
  {
   "cell_type": "markdown",
   "id": "15e3645e",
   "metadata": {},
   "source": [
    "# 10. 斜交空间距离（Oblique Space Distance）"
   ]
  },
  {
   "cell_type": "markdown",
   "id": "f896dd2d",
   "metadata": {},
   "source": [
    "# 11. 兰氏距离（Canberra Distance）"
   ]
  },
  {
   "cell_type": "code",
   "execution_count": 153,
   "id": "90cc9dca",
   "metadata": {},
   "outputs": [
    {
     "data": {
      "text/plain": [
       "1.4272762731136441"
      ]
     },
     "execution_count": 153,
     "metadata": {},
     "output_type": "execute_result"
    }
   ],
   "source": [
    "np.sum( np.true_divide( np.abs(x - y), np.abs(x) + np.abs(y) ) )"
   ]
  },
  {
   "cell_type": "code",
   "execution_count": 154,
   "id": "1e5218a2",
   "metadata": {},
   "outputs": [
    {
     "data": {
      "text/plain": [
       "array([1.42727627])"
      ]
     },
     "execution_count": 154,
     "metadata": {},
     "output_type": "execute_result"
    }
   ],
   "source": [
    "pdist(xy, metric=\"canberra\")"
   ]
  },
  {
   "cell_type": "markdown",
   "id": "33970fbc",
   "metadata": {},
   "source": [
    "# 12. 马氏距离（Mahalanobis Distance）\n",
    "\n",
    "马氏距离要求样本个数＞维数，此处重新生成样本集：10个样本，2个属性\n",
    "\n",
    "马氏距离计算两两样本之间的距离，故结果包含：$C^{2}_{10} = 45$ 个距离"
   ]
  },
  {
   "cell_type": "code",
   "execution_count": 171,
   "id": "6ad7ddfe",
   "metadata": {},
   "outputs": [
    {
     "data": {
      "text/plain": [
       "array([[0.16057991, 0.03173777],\n",
       "       [0.04984203, 0.63608966],\n",
       "       [0.0965663 , 0.54125706],\n",
       "       [0.14562222, 0.50749436],\n",
       "       [0.12384608, 0.66895134],\n",
       "       [0.38362246, 0.96750912],\n",
       "       [0.66204458, 0.34832719],\n",
       "       [0.62169272, 0.76812896],\n",
       "       [0.55320254, 0.59736334],\n",
       "       [0.53135375, 0.97430267]])"
      ]
     },
     "execution_count": 171,
     "metadata": {},
     "output_type": "execute_result"
    }
   ],
   "source": [
    "data = np.random.random([10, 2])\n",
    "data"
   ]
  },
  {
   "cell_type": "code",
   "execution_count": 172,
   "id": "cee08f92",
   "metadata": {},
   "outputs": [
    {
     "data": {
      "text/plain": [
       "(10, 2)"
      ]
     },
     "execution_count": 172,
     "metadata": {},
     "output_type": "execute_result"
    }
   ],
   "source": [
    "data.shape"
   ]
  },
  {
   "cell_type": "code",
   "execution_count": 173,
   "id": "36dce51b",
   "metadata": {},
   "outputs": [
    {
     "data": {
      "text/plain": [
       "array([[18.39262731, -4.22549979],\n",
       "       [-4.22549979, 13.68987876]])"
      ]
     },
     "execution_count": 173,
     "metadata": {},
     "output_type": "execute_result"
    }
   ],
   "source": [
    "# 求解个维度之间协方差矩阵\n",
    "S = np.cov(data.T)\n",
    "# 计算协方差矩阵的逆矩阵\n",
    "ST = np.linalg.inv(S)\n",
    "ST"
   ]
  },
  {
   "cell_type": "code",
   "execution_count": 174,
   "id": "613fe718",
   "metadata": {},
   "outputs": [
    {
     "data": {
      "text/plain": [
       "(2, 2)"
      ]
     },
     "execution_count": 174,
     "metadata": {},
     "output_type": "execute_result"
    }
   ],
   "source": [
    "ST.shape"
   ]
  },
  {
   "cell_type": "code",
   "execution_count": 175,
   "id": "65516feb",
   "metadata": {},
   "outputs": [
    {
     "data": {
      "text/plain": [
       "[2.4064983868149823,\n",
       " 1.9761163000756812,\n",
       " 1.778448926503528,\n",
       " 2.404430793536302,\n",
       " 3.3375019493285927,\n",
       " 2.1576814382238196,\n",
       " 2.9094250412104405,\n",
       " 2.3104822379986585,\n",
       " 3.426008151540264,\n",
       " 0.4480137866843753,\n",
       " 0.7065459737678685,\n",
       " 0.30815685501580464,\n",
       " 1.618002146140689,\n",
       " 3.0847744520164553,\n",
       " 2.3696411013587313,\n",
       " 2.2012364723722557,\n",
       " 2.1104688855720037,\n",
       " 0.2717792884385083,\n",
       " 0.4554926318973598,\n",
       " 1.7230353296945067,\n",
       " 2.7042335514201556,\n",
       " 2.183968292942155,\n",
       " 1.9135693479813816,\n",
       " 2.1102154148029593,\n",
       " 0.6287347650129346,\n",
       " 1.735958615801837,\n",
       " 2.438573435905017,\n",
       " 2.012440681515558,\n",
       " 1.6900976084983395,\n",
       " 2.048918972209157,\n",
       " 1.3438862451280977,\n",
       " 2.862373485815439,\n",
       " 2.067854534269353,\n",
       " 1.928870122984677,\n",
       " 1.8108503250774675,\n",
       " 2.851523901145603,\n",
       " 1.409891022070067,\n",
       " 1.7131869461579778,\n",
       " 0.6273442013634126,\n",
       " 1.608018006961265,\n",
       " 1.1384164544766362,\n",
       " 2.5238527095532692,\n",
       " 0.6218088758251554,\n",
       " 0.94309743685501,\n",
       " 1.422491582300723]"
      ]
     },
     "execution_count": 175,
     "metadata": {},
     "output_type": "execute_result"
    }
   ],
   "source": [
    "n = data.shape[0]\n",
    "d1 = []\n",
    "\n",
    "for i in range(0, n):\n",
    "    for j in range(i + 1, n):\n",
    "        delta = data[i] - data[j]\n",
    "        d = np.sqrt( np.dot( np.dot(delta, ST), delta.T) )\n",
    "        d1.append(d)\n",
    "\n",
    "d1"
   ]
  },
  {
   "cell_type": "code",
   "execution_count": 178,
   "id": "8d8ffd09",
   "metadata": {},
   "outputs": [
    {
     "data": {
      "text/plain": [
       "45"
      ]
     },
     "execution_count": 178,
     "metadata": {},
     "output_type": "execute_result"
    }
   ],
   "source": [
    "len(d1)  # 10个里选两个计算距离，相当于组合问题，共计算45个"
   ]
  },
  {
   "cell_type": "code",
   "execution_count": 179,
   "id": "c9713fd0",
   "metadata": {},
   "outputs": [
    {
     "data": {
      "text/plain": [
       "array([2.40649839, 1.9761163 , 1.77844893, 2.40443079, 3.33750195,\n",
       "       2.15768144, 2.90942504, 2.31048224, 3.42600815, 0.44801379,\n",
       "       0.70654597, 0.30815686, 1.61800215, 3.08477445, 2.3696411 ,\n",
       "       2.20123647, 2.11046889, 0.27177929, 0.45549263, 1.72303533,\n",
       "       2.70423355, 2.18396829, 1.91356935, 2.11021541, 0.62873477,\n",
       "       1.73595862, 2.43857344, 2.01244068, 1.69009761, 2.04891897,\n",
       "       1.34388625, 2.86237349, 2.06785453, 1.92887012, 1.81085033,\n",
       "       2.8515239 , 1.40989102, 1.71318695, 0.6273442 , 1.60801801,\n",
       "       1.13841645, 2.52385271, 0.62180888, 0.94309744, 1.42249158])"
      ]
     },
     "execution_count": 179,
     "metadata": {},
     "output_type": "execute_result"
    }
   ],
   "source": [
    "pdist(data, metric=\"mahalanobis\")"
   ]
  }
 ],
 "metadata": {
  "kernelspec": {
   "display_name": "Python 3",
   "language": "python",
   "name": "python3"
  },
  "language_info": {
   "codemirror_mode": {
    "name": "ipython",
    "version": 3
   },
   "file_extension": ".py",
   "mimetype": "text/x-python",
   "name": "python",
   "nbconvert_exporter": "python",
   "pygments_lexer": "ipython3",
   "version": "3.8.5"
  }
 },
 "nbformat": 4,
 "nbformat_minor": 5
}
